{
 "cells": [
  {
   "cell_type": "code",
   "execution_count": 1,
   "source": [
    "# Python ≥3.5 is required \r\n",
    "import sys\r\n",
    "\r\n",
    "# Scikit-Learn ≥0.20 is required\r\n",
    "import sklearn\r\n",
    "\r\n",
    "# Common imports\r\n",
    "import numpy as np\r\n",
    "import os\r\n",
    "\r\n",
    "# To plot pretty figures\r\n",
    "%matplotlib inline\r\n",
    "import matplotlib as mpl\r\n",
    "import matplotlib.pyplot as plt\r\n",
    "mpl.rc('axes', labelsize=14)\r\n",
    "mpl.rc('xtick', labelsize=12)\r\n",
    "mpl.rc('ytick', labelsize=12)\r\n",
    "\r\n",
    "# Where to save the figures\r\n",
    "PROJECT_ROOT_DIR = \"I:\\Work\"\r\n",
    "CHAPTER_ID = \"HousingPrediction\"\r\n",
    "IMAGES_PATH = os.path.join(PROJECT_ROOT_DIR, \"images\", CHAPTER_ID)\r\n",
    "os.makedirs(IMAGES_PATH, exist_ok=True)\r\n",
    "\r\n",
    "def save_fig(fig_id, tight_layout=True, fig_extension=\"png\", resolution=300):\r\n",
    "    path = os.path.join(IMAGES_PATH, fig_id + \".\" + fig_extension)\r\n",
    "    print(\"Saving figure\", fig_id)\r\n",
    "    if tight_layout:\r\n",
    "        plt.tight_layout()\r\n",
    "    plt.savefig(path, format=fig_extension, dpi=resolution)"
   ],
   "outputs": [],
   "metadata": {}
  },
  {
   "cell_type": "code",
   "execution_count": null,
   "source": [
    "import os\r\n",
    "import tarfile\r\n",
    "import urllib.request\r\n",
    "\r\n",
    "DOWNLOAD_ROOT = \"https://raw.githubusercontent.com/ageron/handson-ml2/master/\"\r\n",
    "HOUSING_PATH = \"I:\\Work\\Datasets\\HousingPrices\"\r\n",
    "HOUSING_URL = DOWNLOAD_ROOT + \"datasets/housing/housing.tgz\"\r\n",
    "\r\n",
    "def fetch_housing_data(housing_url=HOUSING_URL, housing_path=HOUSING_PATH):\r\n",
    "    if not os.path.isdir(housing_path):\r\n",
    "        os.makedirs(housing_path)\r\n",
    "    tgz_path = os.path.join(housing_path, \"Housing.tgz\")\r\n",
    "    urllib.request.urlretrieve(housing_url, tgz_path)\r\n",
    "    housing_tgz = tarfile.open(tgz_path)\r\n",
    "    housing_tgz.extractall(path=housing_path)\r\n",
    "    housing_tgz.close()"
   ],
   "outputs": [],
   "metadata": {}
  },
  {
   "cell_type": "code",
   "execution_count": null,
   "source": [
    "fetch_housing_data()"
   ],
   "outputs": [],
   "metadata": {}
  },
  {
   "cell_type": "code",
   "execution_count": null,
   "source": [
    "import pandas as pd\r\n",
    "\r\n",
    "def load_housing_data(housing_path=HOUSING_PATH):\r\n",
    "    csv_path = os.path.join(housing_path, \"housing.csv\")\r\n",
    "    return pd.read_csv(csv_path)"
   ],
   "outputs": [],
   "metadata": {}
  },
  {
   "cell_type": "code",
   "execution_count": null,
   "source": [
    "housing = load_housing_data()\r\n",
    "housing.head()"
   ],
   "outputs": [],
   "metadata": {}
  },
  {
   "cell_type": "code",
   "execution_count": null,
   "source": [
    "housing.info()"
   ],
   "outputs": [],
   "metadata": {}
  },
  {
   "cell_type": "code",
   "execution_count": null,
   "source": [
    "housing[\"ocean_proximity\"].value_counts()"
   ],
   "outputs": [],
   "metadata": {}
  },
  {
   "cell_type": "code",
   "execution_count": null,
   "source": [
    "housing.describe()"
   ],
   "outputs": [],
   "metadata": {}
  },
  {
   "cell_type": "code",
   "execution_count": null,
   "source": [
    "\r\n",
    "%matplotlib inline\r\n",
    "import matplotlib.pyplot as plt\r\n",
    "housing.hist(bins=50, figsize=(20,15))\r\n",
    "save_fig(\"attribute_histogram_plots\")\r\n",
    "plt.show()"
   ],
   "outputs": [],
   "metadata": {}
  },
  {
   "cell_type": "code",
   "execution_count": null,
   "source": [
    "# to make this notebook's output identical at every run\r\n",
    "np.random.seed(42)"
   ],
   "outputs": [],
   "metadata": {}
  },
  {
   "cell_type": "code",
   "execution_count": null,
   "source": [
    "from sklearn.model_selection import train_test_split\r\n",
    "\r\n",
    "train_set, test_set = train_test_split(housing, test_size=0.2, random_state=42)"
   ],
   "outputs": [],
   "metadata": {}
  },
  {
   "cell_type": "code",
   "execution_count": null,
   "source": [
    "housing[\"median_income\"].hist()"
   ],
   "outputs": [],
   "metadata": {}
  },
  {
   "cell_type": "code",
   "execution_count": null,
   "source": [
    "housing[\"income_cat\"] = pd.cut(housing[\"median_income\"],\r\n",
    "                               bins=[0., 1.5, 3.0, 4.5, 6., np.inf],\r\n",
    "                               labels=[1, 2, 3, 4, 5])"
   ],
   "outputs": [],
   "metadata": {}
  },
  {
   "cell_type": "code",
   "execution_count": null,
   "source": [
    "housing[\"income_cat\"].hist()"
   ],
   "outputs": [],
   "metadata": {}
  },
  {
   "cell_type": "code",
   "execution_count": null,
   "source": [
    "housing[\"income_cat\"].value_counts()"
   ],
   "outputs": [],
   "metadata": {}
  },
  {
   "cell_type": "code",
   "execution_count": null,
   "source": [
    "from sklearn.model_selection import StratifiedShuffleSplit\r\n",
    "\r\n",
    "split = StratifiedShuffleSplit(n_splits=1, test_size=0.2, random_state=42)\r\n",
    "for train_index, test_index in split.split(housing, housing[\"income_cat\"]):\r\n",
    "    strat_train_set = housing.loc[train_index]\r\n",
    "    strat_test_set = housing.loc[test_index]"
   ],
   "outputs": [],
   "metadata": {}
  },
  {
   "cell_type": "code",
   "execution_count": null,
   "source": [
    "def income_cat_proportions(data):\r\n",
    "    return data[\"income_cat\"].value_counts() / len(data)"
   ],
   "outputs": [],
   "metadata": {}
  },
  {
   "cell_type": "code",
   "execution_count": null,
   "source": [
    "train_set, test_set = train_test_split(housing, test_size=0.2, random_state=42)"
   ],
   "outputs": [],
   "metadata": {}
  },
  {
   "cell_type": "code",
   "execution_count": null,
   "source": [
    "compare_props = pd.DataFrame({\r\n",
    "    \"Overall\": income_cat_proportions(housing),\r\n",
    "    \"Stratified\": income_cat_proportions(strat_test_set),\r\n",
    "    \"Random\": income_cat_proportions(test_set),\r\n",
    "}).sort_index()\r\n",
    "compare_props[\"Rand. %error\"] = 100 * compare_props[\"Random\"] / compare_props[\"Overall\"] - 100\r\n",
    "compare_props[\"Strat. %error\"] = 100 * compare_props[\"Stratified\"] / compare_props[\"Overall\"] - 100"
   ],
   "outputs": [],
   "metadata": {}
  },
  {
   "cell_type": "code",
   "execution_count": null,
   "source": [
    "compare_props"
   ],
   "outputs": [],
   "metadata": {}
  },
  {
   "cell_type": "code",
   "execution_count": null,
   "source": [
    "for set_ in (strat_train_set, strat_test_set):\r\n",
    "    set_.drop(\"income_cat\", axis=1, inplace=True)"
   ],
   "outputs": [],
   "metadata": {}
  },
  {
   "cell_type": "code",
   "execution_count": null,
   "source": [
    "housing = strat_train_set.copy()"
   ],
   "outputs": [],
   "metadata": {}
  },
  {
   "cell_type": "code",
   "execution_count": null,
   "source": [
    "housing.plot(kind=\"scatter\", x=\"longitude\", y=\"latitude\")\r\n",
    "save_fig(\"bad_visualization_plot\")"
   ],
   "outputs": [],
   "metadata": {}
  },
  {
   "cell_type": "code",
   "execution_count": null,
   "source": [
    "housing.plot(kind=\"scatter\", x=\"longitude\", y=\"latitude\", alpha=0.1)\r\n",
    "save_fig(\"better_visualization_plot\")"
   ],
   "outputs": [],
   "metadata": {}
  },
  {
   "cell_type": "code",
   "execution_count": null,
   "source": [
    "housing.plot(kind=\"scatter\", x=\"longitude\", y=\"latitude\", alpha=0.4,\r\n",
    "             s=housing[\"population\"]/100, label=\"population\", figsize=(10,7),\r\n",
    "             c=\"median_house_value\", cmap=plt.get_cmap(\"jet\"), colorbar=True,\r\n",
    "             sharex=False)\r\n",
    "plt.legend()\r\n",
    "save_fig(\"housing_prices_scatterplot\")"
   ],
   "outputs": [],
   "metadata": {}
  },
  {
   "cell_type": "code",
   "execution_count": null,
   "source": [
    "# Download the California image\r\n",
    "images_path = os.path.join(PROJECT_ROOT_DIR, \"images\", \"HousingPrediction\")\r\n",
    "os.makedirs(images_path, exist_ok=True)\r\n",
    "DOWNLOAD_ROOT = \"https://raw.githubusercontent.com/ageron/handson-ml2/master/\"\r\n",
    "filename = \"california.png\"\r\n",
    "print(\"Downloading\", filename)\r\n",
    "url = DOWNLOAD_ROOT + \"images/HousingPrediction/\" + filename\r\n",
    "urllib.request.urlretrieve(url, os.path.join(images_path, filename))"
   ],
   "outputs": [],
   "metadata": {}
  },
  {
   "cell_type": "code",
   "execution_count": null,
   "source": [
    "import matplotlib.image as mpimg\r\n",
    "california_img=mpimg.imread(os.path.join(images_path, filename))\r\n",
    "ax = housing.plot(kind=\"scatter\", x=\"longitude\", y=\"latitude\", figsize=(10,7),\r\n",
    "                  s=housing['population']/100, label=\"Population\",\r\n",
    "                  c=\"median_house_value\", cmap=plt.get_cmap(\"jet\"),\r\n",
    "                  colorbar=False, alpha=0.4)\r\n",
    "plt.imshow(california_img, extent=[-124.55, -113.80, 32.45, 42.05], alpha=0.5,\r\n",
    "           cmap=plt.get_cmap(\"jet\"))\r\n",
    "plt.ylabel(\"Latitude\", fontsize=14)\r\n",
    "plt.xlabel(\"Longitude\", fontsize=14)\r\n",
    "\r\n",
    "prices = housing[\"median_house_value\"]\r\n",
    "tick_values = np.linspace(prices.min(), prices.max(), 11)\r\n",
    "cbar = plt.colorbar(ticks=tick_values/prices.max())\r\n",
    "cbar.ax.set_yticklabels([\"$%dk\"%(round(v/1000)) for v in tick_values], fontsize=14)\r\n",
    "cbar.set_label('Median House Value', fontsize=16)\r\n",
    "\r\n",
    "plt.legend(fontsize=16)\r\n",
    "save_fig(\"california_housing_prices_plot\")\r\n",
    "plt.show()"
   ],
   "outputs": [],
   "metadata": {}
  },
  {
   "cell_type": "code",
   "execution_count": null,
   "source": [
    "corr_matrix = housing.corr()"
   ],
   "outputs": [],
   "metadata": {}
  },
  {
   "cell_type": "code",
   "execution_count": null,
   "source": [
    "corr_matrix[\"median_house_value\"].sort_values(ascending=False)"
   ],
   "outputs": [],
   "metadata": {}
  },
  {
   "cell_type": "code",
   "execution_count": null,
   "source": [
    "from pandas.plotting import scatter_matrix\r\n",
    "\r\n",
    "attributes = [\"median_house_value\", \"median_income\", \"total_rooms\",\r\n",
    "              \"housing_median_age\"]\r\n",
    "scatter_matrix(housing[attributes], figsize=(12, 8))\r\n",
    "save_fig(\"scatter_matrix_plot\")"
   ],
   "outputs": [],
   "metadata": {}
  },
  {
   "cell_type": "code",
   "execution_count": null,
   "source": [
    "housing.plot(kind=\"scatter\", x=\"median_income\", y=\"median_house_value\",\r\n",
    "             alpha=0.1)\r\n",
    "plt.axis([0, 16, 0, 550000])\r\n",
    "save_fig(\"income_vs_house_value_scatterplot\")"
   ],
   "outputs": [],
   "metadata": {}
  },
  {
   "cell_type": "code",
   "execution_count": null,
   "source": [
    "housing[\"rooms_per_household\"] = housing[\"total_rooms\"]/housing[\"households\"]\r\n",
    "housing[\"bedrooms_per_room\"] = housing[\"total_bedrooms\"]/housing[\"total_rooms\"]\r\n",
    "housing[\"population_per_household\"]=housing[\"population\"]/housing[\"households\"]"
   ],
   "outputs": [],
   "metadata": {}
  },
  {
   "cell_type": "code",
   "execution_count": null,
   "source": [
    "corr_matrix = housing.corr()\r\n",
    "corr_matrix[\"median_house_value\"].sort_values(ascending=False)"
   ],
   "outputs": [],
   "metadata": {}
  },
  {
   "cell_type": "code",
   "execution_count": null,
   "source": [
    "housing = strat_train_set.drop(\"median_house_value\", axis=1) # drop labels for training set\r\n",
    "housing_labels = strat_train_set[\"median_house_value\"].copy()"
   ],
   "outputs": [],
   "metadata": {}
  },
  {
   "cell_type": "code",
   "execution_count": null,
   "source": [
    "sample_incomplete_rows = housing[housing.isnull().any(axis=1)].head()\r\n",
    "sample_incomplete_rows"
   ],
   "outputs": [],
   "metadata": {}
  },
  {
   "cell_type": "code",
   "execution_count": null,
   "source": [
    "median = housing[\"total_bedrooms\"].median()\r\n",
    "sample_incomplete_rows[\"total_bedrooms\"].fillna(median, inplace=True)"
   ],
   "outputs": [],
   "metadata": {}
  },
  {
   "cell_type": "code",
   "execution_count": null,
   "source": [
    "sample_incomplete_rows"
   ],
   "outputs": [],
   "metadata": {}
  },
  {
   "cell_type": "code",
   "execution_count": null,
   "source": [
    "from sklearn.impute import SimpleImputer\r\n",
    "imputer = SimpleImputer(strategy=\"median\")"
   ],
   "outputs": [],
   "metadata": {}
  },
  {
   "cell_type": "code",
   "execution_count": null,
   "source": [
    "housing_num = housing.drop(\"ocean_proximity\", axis=1)"
   ],
   "outputs": [],
   "metadata": {}
  },
  {
   "cell_type": "code",
   "execution_count": null,
   "source": [
    "imputer.fit(housing_num)"
   ],
   "outputs": [],
   "metadata": {}
  },
  {
   "cell_type": "code",
   "execution_count": null,
   "source": [
    "imputer.statistics_"
   ],
   "outputs": [],
   "metadata": {}
  },
  {
   "cell_type": "code",
   "execution_count": null,
   "source": [
    "housing_num.median().values"
   ],
   "outputs": [],
   "metadata": {}
  },
  {
   "cell_type": "code",
   "execution_count": null,
   "source": [
    "X = imputer.transform(housing_num)"
   ],
   "outputs": [],
   "metadata": {}
  },
  {
   "cell_type": "code",
   "execution_count": null,
   "source": [
    "housing_tr = pd.DataFrame(X, columns=housing_num.columns,\r\n",
    "                          index=housing.index)"
   ],
   "outputs": [],
   "metadata": {}
  },
  {
   "cell_type": "code",
   "execution_count": null,
   "source": [
    "housing_tr.loc[sample_incomplete_rows.index.values]"
   ],
   "outputs": [],
   "metadata": {}
  },
  {
   "cell_type": "code",
   "execution_count": null,
   "source": [
    "housing_tr = pd.DataFrame(X, columns=housing_num.columns,\r\n",
    "                          index=housing_num.index)"
   ],
   "outputs": [],
   "metadata": {}
  },
  {
   "cell_type": "code",
   "execution_count": null,
   "source": [
    "housing_tr.head()"
   ],
   "outputs": [],
   "metadata": {}
  },
  {
   "cell_type": "code",
   "execution_count": null,
   "source": [
    "housing_cat = housing[[\"ocean_proximity\"]]"
   ],
   "outputs": [],
   "metadata": {}
  },
  {
   "cell_type": "code",
   "execution_count": null,
   "source": [
    "from sklearn.preprocessing import OrdinalEncoder\r\n",
    "\r\n",
    "ordinal_encoder = OrdinalEncoder()\r\n",
    "housing_cat_encoded = ordinal_encoder.fit_transform(housing_cat)\r\n",
    "housing_cat_encoded[:10]"
   ],
   "outputs": [],
   "metadata": {}
  },
  {
   "cell_type": "code",
   "execution_count": null,
   "source": [
    "ordinal_encoder.categories_"
   ],
   "outputs": [],
   "metadata": {}
  },
  {
   "cell_type": "code",
   "execution_count": null,
   "source": [
    "from sklearn.preprocessing import OneHotEncoder"
   ],
   "outputs": [],
   "metadata": {}
  },
  {
   "cell_type": "code",
   "execution_count": null,
   "source": [
    "cat_encoder = OneHotEncoder(sparse=False)\r\n",
    "housing_cat_1hot = cat_encoder.fit_transform(housing_cat)\r\n",
    "housing_cat_1hot"
   ],
   "outputs": [],
   "metadata": {}
  },
  {
   "cell_type": "code",
   "execution_count": null,
   "source": [
    "from sklearn.base import BaseEstimator, TransformerMixin\r\n",
    "\r\n",
    "# column index\r\n",
    "col_names = \"total_rooms\", \"total_bedrooms\", \"population\", \"households\"\r\n",
    "rooms_ix, bedrooms_ix, population_ix, households_ix = [\r\n",
    "    housing.columns.get_loc(c) for c in col_names]\r\n",
    "\r\n",
    "class CombinedAttributesAdder(BaseEstimator, TransformerMixin):\r\n",
    "    def __init__(self, add_bedrooms_per_room=True): # no *args or **kargs\r\n",
    "        self.add_bedrooms_per_room = add_bedrooms_per_room\r\n",
    "    def fit(self, X, y=None):\r\n",
    "        return self  # nothing else to do\r\n",
    "    def transform(self, X):\r\n",
    "        rooms_per_household = X[:, rooms_ix] / X[:, households_ix]\r\n",
    "        population_per_household = X[:, population_ix] / X[:, households_ix]\r\n",
    "        if self.add_bedrooms_per_room:\r\n",
    "            bedrooms_per_room = X[:, bedrooms_ix] / X[:, rooms_ix]\r\n",
    "            return np.c_[X, rooms_per_household, population_per_household,\r\n",
    "                         bedrooms_per_room]\r\n",
    "        else:\r\n",
    "            return np.c_[X, rooms_per_household, population_per_household]\r\n",
    "\r\n",
    "attr_adder = CombinedAttributesAdder(add_bedrooms_per_room=False)\r\n",
    "housing_extra_attribs = attr_adder.transform(housing.values)"
   ],
   "outputs": [],
   "metadata": {}
  },
  {
   "cell_type": "code",
   "execution_count": null,
   "source": [
    "housing_extra_attribs = pd.DataFrame(\r\n",
    "    housing_extra_attribs,\r\n",
    "    columns=list(housing.columns)+[\"rooms_per_household\", \"population_per_household\"],\r\n",
    "    index=housing.index)\r\n",
    "housing_extra_attribs.head()"
   ],
   "outputs": [],
   "metadata": {}
  },
  {
   "cell_type": "code",
   "execution_count": null,
   "source": [
    "from sklearn.pipeline import Pipeline\r\n",
    "from sklearn.preprocessing import StandardScaler\r\n",
    "\r\n",
    "num_pipeline = Pipeline([\r\n",
    "        ('imputer', SimpleImputer(strategy=\"median\")),\r\n",
    "        ('attribs_adder', CombinedAttributesAdder()),\r\n",
    "        ('std_scaler', StandardScaler()),\r\n",
    "    ])\r\n",
    "\r\n",
    "housing_num_tr = num_pipeline.fit_transform(housing_num)"
   ],
   "outputs": [],
   "metadata": {}
  },
  {
   "cell_type": "code",
   "execution_count": null,
   "source": [
    "from sklearn.compose import ColumnTransformer\r\n",
    "\r\n",
    "num_attribs = list(housing_num)\r\n",
    "cat_attribs = [\"ocean_proximity\"]\r\n",
    "\r\n",
    "full_pipeline = ColumnTransformer([\r\n",
    "        (\"num\", num_pipeline, num_attribs),\r\n",
    "        (\"cat\", OneHotEncoder(), cat_attribs),\r\n",
    "    ])\r\n",
    "\r\n",
    "housing_prepared = full_pipeline.fit_transform(housing)"
   ],
   "outputs": [],
   "metadata": {}
  },
  {
   "cell_type": "code",
   "execution_count": null,
   "source": [
    "from sklearn.linear_model import LinearRegression\r\n",
    "\r\n",
    "lin_reg = LinearRegression()\r\n",
    "lin_reg.fit(housing_prepared, housing_labels)"
   ],
   "outputs": [],
   "metadata": {}
  },
  {
   "cell_type": "code",
   "execution_count": null,
   "source": [
    "# let's try the full preprocessing pipeline on a few training instances\r\n",
    "some_data = housing.iloc[:5]\r\n",
    "some_labels = housing_labels.iloc[:5]\r\n",
    "some_data_prepared = full_pipeline.transform(some_data)\r\n",
    "\r\n",
    "print(\"Predictions:\", lin_reg.predict(some_data_prepared))"
   ],
   "outputs": [],
   "metadata": {}
  },
  {
   "cell_type": "code",
   "execution_count": null,
   "source": [
    "print(\"Labels:\", list(some_labels))"
   ],
   "outputs": [],
   "metadata": {}
  },
  {
   "cell_type": "code",
   "execution_count": null,
   "source": [
    "from sklearn.metrics import mean_squared_error\r\n",
    "\r\n",
    "housing_predictions = lin_reg.predict(housing_prepared)\r\n",
    "lin_mse = mean_squared_error(housing_labels, housing_predictions)\r\n",
    "lin_rmse = np.sqrt(lin_mse)\r\n",
    "lin_rmse"
   ],
   "outputs": [],
   "metadata": {}
  },
  {
   "cell_type": "code",
   "execution_count": null,
   "source": [
    "from sklearn.tree import DecisionTreeRegressor\r\n",
    "\r\n",
    "tree_reg = DecisionTreeRegressor(random_state=42)\r\n",
    "tree_reg.fit(housing_prepared, housing_labels)"
   ],
   "outputs": [],
   "metadata": {}
  },
  {
   "cell_type": "code",
   "execution_count": null,
   "source": [
    "housing_predictions = tree_reg.predict(housing_prepared)\r\n",
    "tree_mse = mean_squared_error(housing_labels, housing_predictions)\r\n",
    "tree_rmse = np.sqrt(tree_mse)\r\n",
    "tree_rmse"
   ],
   "outputs": [],
   "metadata": {}
  },
  {
   "cell_type": "code",
   "execution_count": null,
   "source": [
    "from sklearn.model_selection import cross_val_score\r\n",
    "\r\n",
    "scores = cross_val_score(tree_reg, housing_prepared, housing_labels,\r\n",
    "                         scoring=\"neg_mean_squared_error\", cv=10)\r\n",
    "tree_rmse_scores = np.sqrt(-scores)"
   ],
   "outputs": [],
   "metadata": {}
  },
  {
   "cell_type": "code",
   "execution_count": null,
   "source": [
    "def display_scores(scores):\r\n",
    "    print(\"Scores:\", scores)\r\n",
    "    print(\"Mean:\", scores.mean())\r\n",
    "    print(\"Standard deviation:\", scores.std())\r\n",
    "\r\n",
    "display_scores(tree_rmse_scores)"
   ],
   "outputs": [],
   "metadata": {}
  },
  {
   "cell_type": "code",
   "execution_count": null,
   "source": [
    "lin_scores = cross_val_score(lin_reg, housing_prepared, housing_labels,\r\n",
    "                             scoring=\"neg_mean_squared_error\", cv=10)\r\n",
    "lin_rmse_scores = np.sqrt(-lin_scores)\r\n",
    "display_scores(lin_rmse_scores)"
   ],
   "outputs": [],
   "metadata": {}
  },
  {
   "cell_type": "code",
   "execution_count": null,
   "source": [
    "from sklearn.ensemble import RandomForestRegressor\r\n",
    "\r\n",
    "forest_reg = RandomForestRegressor(n_estimators=100, random_state=42)\r\n",
    "forest_reg.fit(housing_prepared, housing_labels)"
   ],
   "outputs": [],
   "metadata": {}
  },
  {
   "cell_type": "code",
   "execution_count": null,
   "source": [
    "housing_predictions = forest_reg.predict(housing_prepared)\r\n",
    "forest_mse = mean_squared_error(housing_labels, housing_predictions)\r\n",
    "forest_rmse = np.sqrt(forest_mse)\r\n",
    "forest_rmse"
   ],
   "outputs": [],
   "metadata": {}
  },
  {
   "cell_type": "code",
   "execution_count": null,
   "source": [
    "forest_scores = cross_val_score(forest_reg, housing_prepared, housing_labels,\r\n",
    "                                scoring=\"neg_mean_squared_error\", cv=10)\r\n",
    "forest_rmse_scores = np.sqrt(-forest_scores)\r\n",
    "display_scores(forest_rmse_scores)"
   ],
   "outputs": [],
   "metadata": {}
  },
  {
   "cell_type": "code",
   "execution_count": null,
   "source": [
    "from sklearn.svm import SVR\r\n",
    "\r\n",
    "svm_reg = SVR(kernel=\"linear\")\r\n",
    "svm_reg.fit(housing_prepared, housing_labels)\r\n",
    "housing_predictions = svm_reg.predict(housing_prepared)\r\n",
    "svm_mse = mean_squared_error(housing_labels, housing_predictions)\r\n",
    "svm_rmse = np.sqrt(svm_mse)\r\n",
    "svm_rmse"
   ],
   "outputs": [],
   "metadata": {}
  },
  {
   "cell_type": "code",
   "execution_count": null,
   "source": [
    "from sklearn.model_selection import GridSearchCV\r\n",
    "\r\n",
    "param_grid = [\r\n",
    "    # try 12 (3×4) combinations of hyperparameters\r\n",
    "    {'n_estimators': [3, 10, 30], 'max_features': [2, 4, 6, 8]},\r\n",
    "    # then try 6 (2×3) combinations with bootstrap set as False\r\n",
    "    {'bootstrap': [False], 'n_estimators': [3, 10], 'max_features': [2, 3, 4]},\r\n",
    "  ]\r\n",
    "\r\n",
    "forest_reg = RandomForestRegressor(random_state=42)\r\n",
    "# train across 5 folds, that's a total of (12+6)*5=90 rounds of training \r\n",
    "grid_search = GridSearchCV(forest_reg, param_grid, cv=5,\r\n",
    "                           scoring='neg_mean_squared_error',\r\n",
    "                           return_train_score=True)\r\n",
    "grid_search.fit(housing_prepared, housing_labels)"
   ],
   "outputs": [],
   "metadata": {}
  },
  {
   "cell_type": "code",
   "execution_count": null,
   "source": [
    "grid_search.best_params_"
   ],
   "outputs": [],
   "metadata": {}
  },
  {
   "cell_type": "code",
   "execution_count": null,
   "source": [
    "grid_search.best_estimator_"
   ],
   "outputs": [],
   "metadata": {}
  },
  {
   "cell_type": "code",
   "execution_count": null,
   "source": [
    "cvres = grid_search.cv_results_\r\n",
    "for mean_score, params in zip(cvres[\"mean_test_score\"], cvres[\"params\"]):\r\n",
    "    print(np.sqrt(-mean_score), params)"
   ],
   "outputs": [],
   "metadata": {}
  },
  {
   "cell_type": "code",
   "execution_count": null,
   "source": [
    "from sklearn.model_selection import RandomizedSearchCV\r\n",
    "from scipy.stats import randint\r\n",
    "\r\n",
    "param_distribs = {\r\n",
    "        'n_estimators': randint(low=1, high=200),\r\n",
    "        'max_features': randint(low=1, high=8),\r\n",
    "    }\r\n",
    "\r\n",
    "forest_reg = RandomForestRegressor(random_state=42)\r\n",
    "rnd_search = RandomizedSearchCV(forest_reg, param_distributions=param_distribs,\r\n",
    "                                n_iter=10, cv=5, scoring='neg_mean_squared_error', random_state=42)\r\n",
    "rnd_search.fit(housing_prepared, housing_labels)"
   ],
   "outputs": [],
   "metadata": {}
  },
  {
   "cell_type": "code",
   "execution_count": null,
   "source": [
    "cvres = rnd_search.cv_results_\r\n",
    "for mean_score, params in zip(cvres[\"mean_test_score\"], cvres[\"params\"]):\r\n",
    "    print(np.sqrt(-mean_score), params)"
   ],
   "outputs": [],
   "metadata": {}
  },
  {
   "cell_type": "code",
   "execution_count": null,
   "source": [
    "feature_importances = grid_search.best_estimator_.feature_importances_\r\n",
    "feature_importances"
   ],
   "outputs": [],
   "metadata": {}
  },
  {
   "cell_type": "code",
   "execution_count": null,
   "source": [
    "extra_attribs = [\"rooms_per_hhold\", \"pop_per_hhold\", \"bedrooms_per_room\"]\r\n",
    "cat_encoder = full_pipeline.named_transformers_[\"cat\"]\r\n",
    "cat_one_hot_attribs = list(cat_encoder.categories_[0])\r\n",
    "attributes = num_attribs + extra_attribs + cat_one_hot_attribs\r\n",
    "sorted(zip(feature_importances, attributes), reverse=True)"
   ],
   "outputs": [],
   "metadata": {}
  },
  {
   "cell_type": "code",
   "execution_count": null,
   "source": [
    "final_model = grid_search.best_estimator_\r\n",
    "\r\n",
    "X_test = strat_test_set.drop(\"median_house_value\", axis=1)\r\n",
    "y_test = strat_test_set[\"median_house_value\"].copy()\r\n",
    "\r\n",
    "X_test_prepared = full_pipeline.transform(X_test)\r\n",
    "final_predictions = final_model.predict(X_test_prepared)\r\n",
    "\r\n",
    "final_mse = mean_squared_error(y_test, final_predictions)\r\n",
    "final_rmse = np.sqrt(final_mse)"
   ],
   "outputs": [],
   "metadata": {}
  },
  {
   "cell_type": "code",
   "execution_count": null,
   "source": [
    "final_rmse"
   ],
   "outputs": [],
   "metadata": {}
  },
  {
   "cell_type": "code",
   "execution_count": null,
   "source": [
    "from scipy import stats\r\n",
    "\r\n",
    "confidence = 0.95\r\n",
    "squared_errors = (final_predictions - y_test) ** 2\r\n",
    "np.sqrt(stats.t.interval(confidence, len(squared_errors) - 1,\r\n",
    "                         loc=squared_errors.mean(),\r\n",
    "                         scale=stats.sem(squared_errors)))"
   ],
   "outputs": [],
   "metadata": {}
  },
  {
   "cell_type": "code",
   "execution_count": null,
   "source": [],
   "outputs": [],
   "metadata": {}
  },
  {
   "cell_type": "code",
   "execution_count": null,
   "source": [],
   "outputs": [],
   "metadata": {}
  },
  {
   "cell_type": "code",
   "execution_count": null,
   "source": [],
   "outputs": [],
   "metadata": {}
  },
  {
   "cell_type": "code",
   "execution_count": null,
   "source": [],
   "outputs": [],
   "metadata": {}
  },
  {
   "cell_type": "code",
   "execution_count": null,
   "source": [],
   "outputs": [],
   "metadata": {}
  },
  {
   "cell_type": "code",
   "execution_count": null,
   "source": [],
   "outputs": [],
   "metadata": {}
  }
 ],
 "metadata": {
  "kernelspec": {
   "name": "python3",
   "display_name": "Python 3.9.7  ('everydayDS': conda)"
  },
  "language_info": {
   "codemirror_mode": {
    "name": "ipython",
    "version": 3
   },
   "file_extension": ".py",
   "mimetype": "text/x-python",
   "name": "python",
   "nbconvert_exporter": "python",
   "pygments_lexer": "ipython3",
   "version": "3.9.7"
  },
  "interpreter": {
   "hash": "8b6fb641c2a1d5dd80efcaa373d740364cd1ac2f2b1ee0dc1415b626e4bce83c"
  }
 },
 "nbformat": 4,
 "nbformat_minor": 5
}